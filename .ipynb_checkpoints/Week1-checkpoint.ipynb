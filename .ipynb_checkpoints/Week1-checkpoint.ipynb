{
 "cells": [
  {
   "cell_type": "markdown",
   "id": "23f7b300",
   "metadata": {},
   "source": [
    "# OffSec Week1 -- Solutions"
   ]
  },
  {
   "cell_type": "code",
   "execution_count": 1,
   "id": "5bc284d9",
   "metadata": {},
   "outputs": [],
   "source": [
    "import requests as req\n",
    "import re\n",
    "import base64"
   ]
  },
  {
   "cell_type": "markdown",
   "id": "ff4349b6",
   "metadata": {},
   "source": [
    "### CISCO [25 points]"
   ]
  },
  {
   "cell_type": "code",
   "execution_count": null,
   "id": "8321bd33",
   "metadata": {},
   "outputs": [],
   "source": []
  }
 ],
 "metadata": {
  "kernelspec": {
   "display_name": "Python 3",
   "language": "python",
   "name": "python3"
  },
  "language_info": {
   "codemirror_mode": {
    "name": "ipython",
    "version": 3
   },
   "file_extension": ".py",
   "mimetype": "text/x-python",
   "name": "python",
   "nbconvert_exporter": "python",
   "pygments_lexer": "ipython3",
   "version": "3.9.4"
  }
 },
 "nbformat": 4,
 "nbformat_minor": 5
}
